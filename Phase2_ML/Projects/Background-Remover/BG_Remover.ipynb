{
  "cells": [
    {
      "cell_type": "code",
      "execution_count": null,
      "metadata": {
        "id": "6-5gPYLj-VeF"
      },
      "outputs": [],
      "source": [
        "!pip install git+https://github.com/facebookresearch/segment-anything.git\n",
        "!pip install torch torchvision opencv-python numpy"
      ]
    },
    {
      "cell_type": "code",
      "execution_count": null,
      "metadata": {
        "id": "6Hm7mdB3-a9V"
      },
      "outputs": [],
      "source": [
        "import os\n",
        "from segment_anything import SamPredictor, sam_model_registry\n",
        "\n",
        "model_path = './sam_vit_b_01ec64.pth'\n",
        "if not os.path.exists(model_path):\n",
        "  !wget https://dl.fbaipublicfiles.com/segment_anything/sam_vit_b_01ec64.pth\n",
        "\n",
        "sam = sam_model_registry[\"vit_b\"](checkpoint=model_path)\n",
        "predictor = SamPredictor(sam)"
      ]
    },
    {
      "cell_type": "code",
      "execution_count": 3,
      "metadata": {
        "id": "8yp02zb3-7aS"
      },
      "outputs": [],
      "source": [
        "import cv2\n",
        "\n",
        "image_path = '/content/aks.jpeg'\n",
        "\n",
        "x = 528\n",
        "y = 606\n",
        "\n",
        "image = cv2.imread(image_path)"
      ]
    },
    {
      "cell_type": "code",
      "execution_count": 4,
      "metadata": {
        "id": "xJ4-SR2E_UoQ"
      },
      "outputs": [],
      "source": [
        "import numpy as np\n",
        "\n",
        "predictor.set_image(image)\n",
        "\n",
        "masks, scores, logits = predictor.predict(\n",
        "                                  point_coords=np.asarray([[x, y]]),\n",
        "                                  point_labels=np.asarray([1]),\n",
        "                                  multimask_output=True\n",
        "                              )\n",
        "\n",
        "C, H, W = masks.shape\n",
        "\n",
        "result_mask = np.zeros((H, W), dtype=bool)\n",
        "\n",
        "for j in range(C):\n",
        "  result_mask |= masks[j, :, :]\n",
        "\n",
        "result_mask = result_mask.astype(np.uint8)"
      ]
    },
    {
      "cell_type": "code",
      "execution_count": 5,
      "metadata": {
        "id": "tscCdnUW_V5y"
      },
      "outputs": [],
      "source": [
        "# Making A Fourth Channel To Store The Information Of The Objects Mask\n",
        "alpha_channel = np.ones(result_mask.shape, dtype=result_mask.dtype) * 255\n",
        "\n",
        "alpha_channel[result_mask == 0] = 0\n",
        "\n",
        "result_image = cv2.merge((image, alpha_channel))"
      ]
    },
    {
      "cell_type": "code",
      "execution_count": null,
      "metadata": {
        "id": "OiQrjdNzANia"
      },
      "outputs": [],
      "source": [
        "import base64\n",
        "import os\n",
        "\n",
        "from segment_anything import SamPredictor, sam_model_registry\n",
        "import cv2\n",
        "import numpy as np\n",
        "\n",
        "\n",
        "model_path = './sam_vit_b_01ec64.pth'\n",
        "if not os.path.exists(model_path):\n",
        "  !wget https://dl.fbaipublicfiles.com/segment_anything/sam_vit_b_01ec64.pth\n",
        "\n",
        "sam = sam_model_registry[\"vit_b\"](checkpoint=model_path)\n",
        "predictor = SamPredictor(sam)\n",
        "\n",
        "\n",
        "def remove_background(image_base64_encoding, x, y):\n",
        "\n",
        "  image_bytes = base64.b64decode(image_base64_encoding)\n",
        "\n",
        "  image = cv2.imdecode(np.frombuffer(image_bytes, dtype=np.uint8), cv2.IMREAD_COLOR)\n",
        "\n",
        "  predictor.set_image(image)\n",
        "\n",
        "  masks, scores, logits = predictor.predict(\n",
        "                                    point_coords=np.asarray([[x, y]]),\n",
        "                                    point_labels=np.asarray([1]),\n",
        "                                    multimask_output=True\n",
        "                                )\n",
        "\n",
        "  C, H, W = masks.shape\n",
        "\n",
        "  result_mask = np.zeros((H, W), dtype=bool)\n",
        "\n",
        "  for j in range(C):\n",
        "    result_mask |= masks[j, :, :]\n",
        "\n",
        "  result_mask = result_mask.astype(np.uint8)\n",
        "\n",
        "  alpha_channel = np.ones(result_mask.shape, dtype=result_mask.dtype) * 255\n",
        "\n",
        "  alpha_channel[result_mask == 0] = 0\n",
        "\n",
        "  result_image = cv2.merge((image, alpha_channel))\n",
        "\n",
        "  _, result_image_bytes = cv2.imencode('.png', result_image)\n",
        "\n",
        "  result_image_bytes = result_image_bytes.tobytes()\n",
        "\n",
        "  result_image_bytes_encoded_base64 = base64.b64encode(result_image_bytes).decode('utf-8')\n",
        "\n",
        "  return result_image_bytes_encoded_base64"
      ]
    },
    {
      "cell_type": "code",
      "execution_count": null,
      "metadata": {
        "id": "5qhNHk6jDCFr"
      },
      "outputs": [],
      "source": [
        "import cv2\n",
        "from google.colab.patches import cv2_imshow\n",
        "\n",
        "image_path = '/content/aks.jpeg'\n",
        "\n",
        "x = 528\n",
        "y = 606\n",
        "\n",
        "image = cv2.imread(image_path)\n",
        "\n",
        "_, image_bytes = cv2.imencode('.png', image)\n",
        "\n",
        "image_bytes = image_bytes.tobytes()\n",
        "\n",
        "image_bytes_encoded_base64 = base64.b64encode(image_bytes).decode('utf-8')\n",
        "\n",
        "result_image = remove_background(image_bytes_encoded_base64, x, y)\n",
        "\n",
        "result_image_bytes = base64.b64decode(result_image)\n",
        "\n",
        "result_image = cv2.imdecode(np.frombuffer(result_image_bytes, dtype=np.uint8),\n",
        "                            cv2.IMREAD_UNCHANGED)\n",
        "\n",
        "cv2_imshow(result_image)"
      ]
    },
    {
      "cell_type": "code",
      "execution_count": null,
      "metadata": {
        "id": "bZYCyo_5D5qk"
      },
      "outputs": [],
      "source": [
        "!pip install modelbit"
      ]
    },
    {
      "cell_type": "code",
      "execution_count": null,
      "metadata": {
        "id": "gGy4wv5SFBls"
      },
      "outputs": [],
      "source": [
        "import modelbit\n",
        "\n",
        "mb = modelbit.login()"
      ]
    },
    {
      "cell_type": "code",
      "execution_count": null,
      "metadata": {
        "id": "fUQr_SLkFwSA"
      },
      "outputs": [],
      "source": [
        "mb.deploy(remove_background)"
      ]
    }
  ],
  "metadata": {
    "colab": {
      "provenance": []
    },
    "kernelspec": {
      "display_name": "Python 3",
      "name": "python3"
    },
    "language_info": {
      "name": "python"
    }
  },
  "nbformat": 4,
  "nbformat_minor": 0
}
